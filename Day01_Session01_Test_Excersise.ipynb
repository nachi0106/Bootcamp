{
  "nbformat": 4,
  "nbformat_minor": 0,
  "metadata": {
    "kernelspec": {
      "display_name": "Python 3",
      "language": "python",
      "name": "python3"
    },
    "language_info": {
      "codemirror_mode": {
        "name": "ipython",
        "version": 3
      },
      "file_extension": ".py",
      "mimetype": "text/x-python",
      "name": "python",
      "nbconvert_exporter": "python",
      "pygments_lexer": "ipython3",
      "version": "3.7.6"
    },
    "colab": {
      "name": "Day01 Session01 Test Excersise.ipynb",
      "provenance": [],
      "include_colab_link": true
    }
  },
  "cells": [
    {
      "cell_type": "markdown",
      "metadata": {
        "id": "view-in-github",
        "colab_type": "text"
      },
      "source": [
        "<a href=\"https://colab.research.google.com/github/nachi0106/Bootcamp/blob/master/Day01_Session01_Test_Excersise.ipynb\" target=\"_parent\"><img src=\"https://colab.research.google.com/assets/colab-badge.svg\" alt=\"Open In Colab\"/></a>"
      ]
    },
    {
      "cell_type": "markdown",
      "metadata": {
        "id": "S2DbXAMNCfq0",
        "colab_type": "text"
      },
      "source": [
        "# 1. Find the compound interest for the given p,n,r (formula : p(1+n*r/100) n )"
      ]
    },
    {
      "cell_type": "code",
      "metadata": {
        "id": "Mletuxv1Cfq5",
        "colab_type": "code",
        "colab": {
          "base_uri": "https://localhost:8080/",
          "height": 53
        },
        "outputId": "9a0e7c6f-1c22-4515-b905-6da938d88615"
      },
      "source": [
        "p,n,r= [int(x) for x in input(\"enter p,n and r:\").split()]\n",
        "print(\"compound interest is:\",p*(pow((1+r/100),n)))\n"
      ],
      "execution_count": 2,
      "outputs": [
        {
          "output_type": "stream",
          "text": [
            "enter p,n and r:1000 10 2\n",
            "compound interest is: 1218.9944199947574\n"
          ],
          "name": "stdout"
        }
      ]
    },
    {
      "cell_type": "markdown",
      "metadata": {
        "id": "F1KBTbUUCfrM",
        "colab_type": "text"
      },
      "source": [
        "# 2. Convert centegrade to farenheit ( f= 9/5*c+32)"
      ]
    },
    {
      "cell_type": "code",
      "metadata": {
        "id": "LtvAzYXKCfrQ",
        "colab_type": "code",
        "colab": {},
        "outputId": "ad6492ab-b439-4b9b-bf92-eb0859cedf54"
      },
      "source": [
        "c = float(input(\"Enter centegrade:\"))\n",
        "print(c,\"centegrade in farenhite is\",9/5*c+32)"
      ],
      "execution_count": null,
      "outputs": [
        {
          "output_type": "stream",
          "text": [
            "Enter centegrade:-4\n",
            "-4.0 centegrade in farenhite is 24.8\n"
          ],
          "name": "stdout"
        }
      ]
    },
    {
      "cell_type": "markdown",
      "metadata": {
        "id": "5U6CCC_TCfre",
        "colab_type": "text"
      },
      "source": [
        "# 3. Find the greater of two nos"
      ]
    },
    {
      "cell_type": "code",
      "metadata": {
        "id": "ySjAUSJ2Cfrg",
        "colab_type": "code",
        "colab": {},
        "outputId": "9993a045-f2fa-4a4a-ea64-f9e6dd79d5c2"
      },
      "source": [
        "a,b = [ int(x) for x in input(\"enter two number:\").split()]\n",
        "print(a,\" is greater than\",b) if (a>b) else print(b,\"is greater than\",a)"
      ],
      "execution_count": null,
      "outputs": [
        {
          "output_type": "stream",
          "text": [
            "enter two number:3 4\n",
            "4 is greater than 3\n"
          ],
          "name": "stdout"
        }
      ]
    },
    {
      "cell_type": "markdown",
      "metadata": {
        "id": "jxdZhamDCfru",
        "colab_type": "text"
      },
      "source": [
        "# 4. Write a program for finding surface areas of cylinder and cone (2*PI*r*r*h,1/3*PI*r*r*h) using function."
      ]
    },
    {
      "cell_type": "code",
      "metadata": {
        "id": "pH2vUsEvCfrx",
        "colab_type": "code",
        "colab": {},
        "outputId": "91e34354-bb18-4980-b674-92282ad23495"
      },
      "source": [
        "import math\n",
        "def SArea(r,h):\n",
        "    print(\"surface area of cylinder is:\",2*math.pi*r*r*h)\n",
        "    print(\"surface area of cone is:\",1/3*math.pi*r*r*h)\n",
        "r,h = [ int(x) for x in input(\"enter radius and height:\").split()]\n",
        "SArea(r,h)"
      ],
      "execution_count": null,
      "outputs": [
        {
          "output_type": "stream",
          "text": [
            "enter radius and height:4 5\n",
            "surface area of cylinder is: 502.6548245743669\n",
            "surface area of cone is: 83.7758040957278\n"
          ],
          "name": "stdout"
        }
      ]
    },
    {
      "cell_type": "markdown",
      "metadata": {
        "id": "FqDeAxEACfsE",
        "colab_type": "text"
      },
      "source": [
        "# 5. Find the greatest of four nos ( using ‘and’ operator) using function."
      ]
    },
    {
      "cell_type": "code",
      "metadata": {
        "id": "4tfDh1LECfsH",
        "colab_type": "code",
        "colab": {},
        "outputId": "2af95aca-6840-4be1-9030-805241e517c8"
      },
      "source": [
        "def greatest(a,b,c,d):\n",
        "    if a>b and a>c and a>d:\n",
        "        print(a,\"is the greatest number\")\n",
        "    elif b>c and b>d:\n",
        "        print(b,\"is the greatest number\")\n",
        "    elif c>d:\n",
        "        print(c,\"is the greatest number\")\n",
        "    else:\n",
        "        print(d,\"is the greatest number\")\n",
        "a,b,c,d=[int(x) for x in input(\"enter 4 nymbers:\").split()]\n",
        "greatest(a,b,c,d)"
      ],
      "execution_count": null,
      "outputs": [
        {
          "output_type": "stream",
          "text": [
            "enter 4 nymbers:5 4 3 2\n",
            "5 is the greatest number\n"
          ],
          "name": "stdout"
        }
      ]
    },
    {
      "cell_type": "markdown",
      "metadata": {
        "id": "2maQ6YYXCfsT",
        "colab_type": "text"
      },
      "source": [
        "# 6. Write a menu program to perform the operations ( ODDorEven, Factorial,ODDNoUptoN, PrimeUptoN ) using functions for two nos with menu choice"
      ]
    },
    {
      "cell_type": "code",
      "metadata": {
        "id": "wlg9jaCmCfsU",
        "colab_type": "code",
        "colab": {},
        "outputId": "e5d9164c-e4ee-4e0c-8bf4-0d495bacef17"
      },
      "source": [
        "def ODDorEven(n):\n",
        "    print(n,\"is even\\n\") if n%2==0 else print(n,\"is odd\\n\") \n",
        "    \n",
        "def Factorial(n):\n",
        "    if(n==1 or n==0):\n",
        "        return 1\n",
        "    f=n*Factorial(n-1)\n",
        "    return f\n",
        "    \n",
        "def ODDNoUptoN(n):\n",
        "    for i in range(1,n+1,2):\n",
        "        print(i,end=\" \")\n",
        "        \n",
        "def PrimeUptoN(n):\n",
        "    print(\"the prime numbers upto\",n,\"are:\")\n",
        "    for num in range(1,n + 1):  \n",
        "        if num > 1:  \n",
        "            for i in range(2,num):  \n",
        "                if (num % i) == 0:  \n",
        "                    break  \n",
        "            else:  \n",
        "                print(num,end=\" \")     \n",
        "                \n",
        "ch=0\n",
        "while ch!=5:\n",
        "    print(\"\\n\\nMENU\\n1.ODDorEven\\n2.Factorial\\n3.ODDNoUptoN\\n4.PrimeUptoN\\n5.Exit\")    \n",
        "    ch= int(input(\"enter your choice:\"))\n",
        "    if ch!=5:\n",
        "        n=int(input(\"enter value of n:\"))\n",
        "    if ch==1:ODDorEven(n) \n",
        "    elif ch==2:print(\"factorial of\",n,\"is \",Factorial(n))\n",
        "    elif ch==3:ODDNoUptoN(n)\n",
        "    elif ch==4:PrimeUptoN(n)\n",
        "    elif ch==5:print(\"exiting  \")\n",
        "    else:\n",
        "        print(\"enter valid number\")\n",
        "        ch=0\n",
        "print(\"BYE\")"
      ],
      "execution_count": null,
      "outputs": [
        {
          "output_type": "stream",
          "text": [
            "\n",
            "\n",
            "MENU\n",
            "1.ODDorEven\n",
            "2.Factorial\n",
            "3.ODDNoUptoN\n",
            "4.PrimeUptoN\n",
            "5.Exit\n",
            "enter your choice:1\n",
            "enter value of n:5\n",
            "5 is odd\n",
            "\n",
            "\n",
            "\n",
            "MENU\n",
            "1.ODDorEven\n",
            "2.Factorial\n",
            "3.ODDNoUptoN\n",
            "4.PrimeUptoN\n",
            "5.Exit\n",
            "enter your choice:2\n",
            "enter value of n:5\n",
            "factorial of 5 is  120\n",
            "\n",
            "\n",
            "MENU\n",
            "1.ODDorEven\n",
            "2.Factorial\n",
            "3.ODDNoUptoN\n",
            "4.PrimeUptoN\n",
            "5.Exit\n",
            "enter your choice:3\n",
            "enter value of n:9\n",
            "1 3 5 7 9 \n",
            "\n",
            "MENU\n",
            "1.ODDorEven\n",
            "2.Factorial\n",
            "3.ODDNoUptoN\n",
            "4.PrimeUptoN\n",
            "5.Exit\n",
            "enter your choice:4\n",
            "enter value of n:21\n",
            "the prime numbers upto 21 are:\n",
            "2 3 5 7 11 13 17 19 \n",
            "\n",
            "MENU\n",
            "1.ODDorEven\n",
            "2.Factorial\n",
            "3.ODDNoUptoN\n",
            "4.PrimeUptoN\n",
            "5.Exit\n",
            "enter your choice:5\n",
            "exiting  \n",
            "BYE\n"
          ],
          "name": "stdout"
        }
      ]
    },
    {
      "cell_type": "code",
      "metadata": {
        "id": "gpBrsMhPCfsb",
        "colab_type": "code",
        "colab": {}
      },
      "source": [
        ""
      ],
      "execution_count": null,
      "outputs": []
    }
  ]
}